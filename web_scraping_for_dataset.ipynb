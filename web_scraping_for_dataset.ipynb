{
 "cells": [
  {
   "cell_type": "code",
   "execution_count": 1,
   "metadata": {},
   "outputs": [
    {
     "name": "stderr",
     "output_type": "stream",
     "text": [
      "[nltk_data] Downloading package punkt to /home/yazilimci/nltk_data...\n",
      "[nltk_data]   Package punkt is already up-to-date!\n"
     ]
    }
   ],
   "source": [
    "import lxml\n",
    "from bs4 import BeautifulSoup\n",
    "import requests\n",
    "import nltk \n",
    "from nltk.stem.lancaster import LancasterStemmer\n",
    "nltk.download('punkt')\n",
    "\n",
    "from snowballstemmer import TurkishStemmer\n",
    "import json"
   ]
  },
  {
   "cell_type": "code",
   "execution_count": 25,
   "metadata": {
    "scrolled": true
   },
   "outputs": [
    {
     "name": "stdout",
     "output_type": "stream",
     "text": [
      "{'intents': [{'tag': \" facebook'ta paylaş\", 'patterns': [\"facebook'\", 'paylaş', \" facebook'ta paylaş\"], 'responses': 'https://www.facebook.com/sharer/sharer.php?u=http://gazi.edu.tr/', 'context_set': ''}, {'tag': \" twitter'da paylaş\", 'patterns': [\"twitter'da\", 'paylaş', \" twitter'da paylaş\"], 'responses': 'https://twitter.com/home?status=http://gazi.edu.tr/', 'context_set': ''}, {'tag': \" linkedin'de paylaş\", 'patterns': [\"linkedin'\", 'paylaş', \" linkedin'de paylaş\"], 'responses': 'https://www.linkedin.com/shareArticle?mini=true&url=http://gazi.edu.tr//&title=Gazi%20Universitesi&summary=&source=', 'context_set': ''}, {'tag': 'üni̇versi̇temi̇z', 'patterns': ['üni̇versi̇temi̇z', 'üni̇versi̇temi̇z'], 'responses': 'http://gazi-universitesi.gazi.edu.tr/posts?type=universitemiz', 'context_set': ''}, {'tag': 'rektör', 'patterns': ['rektör', 'rektör'], 'responses': 'http://gazi-universitesi.gazi.edu.tr/posts/view/title/rektor-249462?siteUri=gazi-universitesi', 'context_set': ''}, {'tag': 'üniversite yönetimi', 'patterns': ['üniversi', 'yönet', 'üniversite yönet'], 'responses': 'http://gazi-universitesi.gazi.edu.tr/posts/view/title/yonetim-157633', 'context_set': ''}, {'tag': 'politikalarımız', 'patterns': ['politika', 'politika'], 'responses': 'http://gazi.edu.tr/posts/view/title/politikalarimiz-242709?siteUri=gazi-universitesi', 'context_set': ''}, {'tag': 'misyon vizyon', 'patterns': ['misyo', 'vizyo', 'misyon vizyo'], 'responses': 'http://gazi.edu.tr/posts/view/title/misyon---vizyon-217061?siteUri=gazi-universitesi', 'context_set': ''}, {'tag': 'kişisel verilerin korunması', 'patterns': ['kişisel', 'ver', 'korunmas', 'kişisel verilerin korunmas'], 'responses': 'http://gazi.edu.tr/posts/view/title/kisisel-verilerin-korunmasi-256514?siteUri=gazi-universitesi', 'context_set': ''}, {'tag': 'kurumsal kimlik', 'patterns': ['kurumsal', 'kimlik', 'kurumsal kimlik'], 'responses': 'http://gazi.edu.tr/posts/view/title/kurumsal-kimlik-kilavuzu-237161?siteUri=gazi-universitesi', 'context_set': ''}, {'tag': 'organizasyon şeması', 'patterns': ['organizasyo', 'şemas', 'organizasyon şemas'], 'responses': 'http://gazi.edu.tr/posts/view/title/organizasyon-semasi-221321?siteUri=gazi-universitesi', 'context_set': ''}, {'tag': 'stratejik plan&raporlar', 'patterns': ['stratejik', 'plan', '&', 'rapor', 'stratejik plan&rapor'], 'responses': 'http://gazi-universitesi.gazi.edu.tr/posts/view/title/raporlar-151', 'context_set': ''}, {'tag': 'i̇dari birimler', 'patterns': ['i̇dar', 'birim', 'i̇dari birim'], 'responses': 'http://gazi-universitesi.gazi.edu.tr/posts/view/title/idari-birimler-13307', 'context_set': ''}, {'tag': 'kurul komisyon koordinatörlükler', 'patterns': ['kurul', 'komisyo', 'koordinatörlük', 'kurul komisyon koordinatörlük'], 'responses': 'http://gazi.edu.tr/posts/view/title/kurul-ve-komisyonlar---koordinatorlukler-236920?siteUri=gazi-universitesi', 'context_set': ''}, {'tag': \"gazi' nin şehitleri\", 'patterns': ['gazi', \"'\", 'nin', 'şehit', \"gazi' nin şehit\"], 'responses': 'http://gazi.edu.tr/posts/view/title/gazi%27nin-sehitleri-162185?siteUri=gazi-universitesi', 'context_set': ''}, {'tag': 'akademi̇k', 'patterns': ['akademi̇k', 'akademi̇k'], 'responses': 'http://gazi-universitesi.gazi.edu.tr/posts?type=akademik', 'context_set': ''}, {'tag': 'akademik takvim', 'patterns': ['akademik', 'takv', 'akademik takv'], 'responses': 'http://gazi-universitesi.gazi.edu.tr/posts?type=akademiktakvim', 'context_set': ''}, {'tag': 'akademik birimler', 'patterns': ['akademik', 'birim', 'akademik birim'], 'responses': 'http://gazi-universitesi.gazi.edu.tr/posts/view/title/akademik-birimler-13306?siteUri=gazi-universitesi', 'context_set': ''}, {'tag': 'akademik ve bilimsel dergiler', 'patterns': ['akademik', 've', 'bilimsel', 'dergi', 'akademik ve bilimsel dergi'], 'responses': 'http://gazi-universitesi.gazi.edu.tr/posts/view/title/dergiler-215', 'context_set': ''}, {'tag': 'akademik yükseltilme ve atanma kriterleri', 'patterns': ['akademik', 'yükseltilme', 've', 'atanma', 'kriter', 'akademik yükseltilme ve atanma kriter'], 'responses': 'http://gazi-universitesi.gazi.edu.tr/posts/view/title/gazi-universitesi-akademik-yukseltilme-ve-atanma-kriterleri-yonergesi-257052?siteUri=gazi-universitesi', 'context_set': ''}, {'tag': 'bilgi paketi', 'patterns': ['bilgi', 'paket', 'bilgi paket'], 'responses': 'http://gbp.gazi.edu.tr//?lang=0&baslik=1', 'context_set': ''}, {'tag': 'öğrenci̇', 'patterns': ['öğrenci̇', 'öğrenci̇'], 'responses': 'http://gazi-universitesi.gazi.edu.tr/posts?type=ogrenci', 'context_set': ''}, {'tag': 'öğrenci i̇şleri daire başkanlığı', 'patterns': ['öğrenci', 'i̇ş', 'dair', 'başkanlık', 'öğrenci i̇şleri daire başkanlık'], 'responses': 'http://ogris.gazi.edu.tr/', 'context_set': ''}, {'tag': 'sağlık kültür spor dairesi başkanlığı', 'patterns': ['sağlık', 'kül', 'spor', 'daires', 'başkanlık', 'sağlık kültür spor dairesi başkanlık'], 'responses': 'http://mediko.gazi.edu.tr/', 'context_set': ''}, {'tag': 'öğrenci danışma ve burs hizmetleri birimi', 'patterns': ['öğrenci', 'danışma', 've', 'burs', 'hizmet', 'bir', 'öğrenci danışma ve burs hizmetleri bir'], 'responses': 'http://odm.gazi.edu.tr/', 'context_set': ''}, {'tag': 'engelsizler birimi', 'patterns': ['engelsiz', 'bir', 'engelsizler bir'], 'responses': 'http://engelsiz.gazi.edu.tr/', 'context_set': ''}, {'tag': 'kariyer planlama', 'patterns': ['kariyer', 'planla', 'kariyer planla'], 'responses': 'http://kariyerplanlama.gazi.edu.tr/', 'context_set': ''}, {'tag': 'öğrenci toplulukları', 'patterns': ['öğrenci', 'topluluk', 'öğrenci topluluk'], 'responses': 'http://topluluklar.gazi.edu.tr', 'context_set': ''}, {'tag': 'uluslararasi', 'patterns': ['uluslararasi', 'uluslararasi'], 'responses': 'http://gazi-universitesi.gazi.edu.tr/posts?type=adayogrenci', 'context_set': ''}, {'tag': 'uluslararası öğrenciler birimi', 'patterns': ['uluslararas', 'öğrenci', 'bir', 'uluslararası öğrenciler bir'], 'responses': 'http://gazi-international.gazi.edu.tr/', 'context_set': ''}, {'tag': 'erasmus değişim programı', 'patterns': ['erasmus', 'değiş', 'progra', 'erasmus değişim progra'], 'responses': 'http://erasmus.gazi.edu.tr/ ', 'context_set': ''}, {'tag': 'farabi değişim programı', 'patterns': ['farabi', 'değiş', 'progra', 'farabi değişim progra'], 'responses': 'http://farabi.gazi.edu.tr/', 'context_set': ''}, {'tag': 'mevlana değişim programı', 'patterns': ['mevla', 'değiş', 'progra', 'mevlana değişim progra'], 'responses': 'http://mevlana.gazi.edu.tr/ ', 'context_set': ''}, {'tag': 'protokol birimi', 'patterns': ['protokol', 'bir', 'protokol bir'], 'responses': 'http://ciftdiploma.gazi.edu.tr/ ', 'context_set': ''}, {'tag': 'alan ve derece tespit birimi', 'patterns': ['ala', 've', 'dereç', 'tespit', 'bir', 'alan ve derece tespit bir'], 'responses': 'http://alan-derece-tespit.gazi.edu.tr/', 'context_set': ''}, {'tag': 'i̇lmi hüviyet tespit birimi', 'patterns': ['i̇lmi', 'hüviyet', 'tespit', 'bir', 'i̇lmi hüviyet tespit bir'], 'responses': 'http://ilmi-huviyet-tespiti.gazi.edu.tr/', 'context_set': ''}, {'tag': 'yök bursluları birimi', 'patterns': ['yök', 'burslu', 'bir', 'yök bursluları bir'], 'responses': 'http://oyp.gazi.edu.tr/', 'context_set': ''}, {'tag': 'kayıt kılavuzu', 'patterns': ['kayıt', 'kılavuz', 'kayıt kılavuz'], 'responses': 'http://kilavuz.gazi.edu.tr/', 'context_set': ''}, {'tag': 'bilgi paketi', 'patterns': ['bilgi', 'paket', 'bilgi paket'], 'responses': 'http://gbp.gazi.edu.tr//?lang=0&baslik=1', 'context_set': ''}, {'tag': 'kütüphane', 'patterns': ['kütüpha', 'kütüpha'], 'responses': 'http://lib.gazi.edu.tr/', 'context_set': ''}, {'tag': 'bilimsel araştırma projeleri', 'patterns': ['bilimsel', 'araştırma', 'proje', 'bilimsel araştırma proje'], 'responses': 'http://bap.gazi.edu.tr/', 'context_set': ''}, {'tag': 'uygulama ve araştırma merkezleri', 'patterns': ['uygula', 've', 'araştırma', 'merkez', 'uygulama ve araştırma merkez'], 'responses': 'http://gazi.edu.tr/posts/view/title/uygulama-ve-arastirma-merkezleri-252158?siteUri=gazi-universitesi', 'context_set': ''}, {'tag': 'teknoloji transfer ofisi', 'patterns': ['teknoloj', 'transfer', 'ofis', 'teknoloji transfer ofis'], 'responses': 'http://www.gazitto.com.tr', 'context_set': ''}, {'tag': 'proje ofisi', 'patterns': ['proje', 'ofis', 'proje ofis'], 'responses': 'http://proje.gazi.edu.tr/', 'context_set': ''}, {'tag': 'gazi teknopark', 'patterns': ['gazi', 'teknopark', 'gazi teknopark'], 'responses': 'http://www.gaziteknopark.com.tr/', 'context_set': ''}, {'tag': 'bi̇lgi̇ si̇stemleri̇', 'patterns': ['bi̇lgi̇', 'si̇stemleri̇', 'bi̇lgi̇ si̇stemleri̇'], 'responses': 'http://gazi-universitesi.gazi.edu.tr/posts?type=gazinet', 'context_set': ''}, {'tag': 'ebys', 'patterns': ['ebys', 'ebys'], 'responses': 'https://ebys.gazi.edu.tr/enVision/Login.aspx?ReturnUrl=%2fenvision', 'context_set': ''}, {'tag': 'guzem öğrenme yönetim sistemi', 'patterns': ['guze', 'öğrenme', 'yönet', 'siste', 'guzem öğrenme yönetim siste'], 'responses': 'https://lms.gazi.edu.tr', 'context_set': ''}, {'tag': 'öğrenci i̇şleri bilgi sistemi', 'patterns': ['öğrenci', 'i̇ş', 'bilgi', 'siste', 'öğrenci i̇şleri bilgi siste'], 'responses': 'https://obs.gazi.edu.tr', 'context_set': ''}, {'tag': 'akademik bilgi sistemi (abs)', 'patterns': ['akademik', 'bilgi', 'siste', '(', 'abs', ')', 'akademik bilgi sistemi (abs)'], 'responses': 'https://abs.gazi.edu.tr/', 'context_set': ''}, {'tag': 'puantaj bilgi sistemi', 'patterns': ['puantaj', 'bilgi', 'siste', 'puantaj bilgi siste'], 'responses': 'http://puantaj.gazi.edu.tr/', 'context_set': ''}, {'tag': 'öğrenci i̇statistik bilgi sistemi', 'patterns': ['öğrenci', 'i̇statis', 'bilgi', 'siste', 'öğrenci i̇statistik bilgi siste'], 'responses': 'https://obs.gazi.edu.tr/oibs/public_stats/index.aspx', 'context_set': ''}, {'tag': 'personel i̇statistik bilgi sistemi', 'patterns': ['personel', 'i̇statis', 'bilgi', 'siste', 'personel i̇statistik bilgi siste'], 'responses': 'http://pbs-istatistik.gazi.edu.tr/nhrwebstatspublic/dashboard/index', 'context_set': ''}, {'tag': 'bilimsel araştırma projeleri bilgi sistemi', 'patterns': ['bilimsel', 'araştırma', 'proje', 'bilgi', 'siste', 'bilimsel araştırma projeleri bilgi siste'], 'responses': 'http://projeler.gazi.edu.tr/', 'context_set': ''}, {'tag': 'i̇hale bilgi sistemi', 'patterns': ['i̇hal', 'bilgi', 'siste', 'i̇hale bilgi siste'], 'responses': 'http://ihsis.gazi.edu.tr', 'context_set': ''}, {'tag': 'mezun bilgi sistemi', 'patterns': ['mez', 'bilgi', 'siste', 'mezun bilgi siste'], 'responses': 'https://obs.gazi.edu.tr/oibs/kariyer/', 'context_set': ''}, {'tag': 'i̇leti̇şi̇m', 'patterns': ['i̇leti̇şi̇m', 'i̇leti̇şi̇m'], 'responses': 'http://gazi-universitesi.gazi.edu.tr/posts?type=iletisim', 'context_set': ''}, {'tag': 'i̇letişim sayfası', 'patterns': ['i̇letiş', 'sayfas', 'i̇letişim sayfas'], 'responses': 'http://gazi-universitesi.gazi.edu.tr/posts?type=iletisim', 'context_set': ''}, {'tag': 'gazi e-posta', 'patterns': ['gazi', 'e-pos', 'gazi e-pos'], 'responses': 'https://zbr.gazi.edu.tr/zimbra/', 'context_set': ''}, {'tag': 'yerleşkeler', 'patterns': ['yerleşke', 'yerleşke'], 'responses': 'http://gazi-universitesi.gazi.edu.tr/posts/view/title/yerleskeler-169251', 'context_set': ''}, {'tag': \" facebook'ta paylaş\", 'patterns': [\"facebook'\", 'paylaş', \" facebook'ta paylaş\"], 'responses': 'https://www.facebook.com/sharer/sharer.php?u=http://gazi.edu.tr/', 'context_set': ''}, {'tag': \" twitter'da paylaş\", 'patterns': [\"twitter'da\", 'paylaş', \" twitter'da paylaş\"], 'responses': 'https://twitter.com/home?status=http://gazi.edu.tr/', 'context_set': ''}, {'tag': \" linkedin'de paylaş\", 'patterns': [\"linkedin'\", 'paylaş', \" linkedin'de paylaş\"], 'responses': 'https://www.linkedin.com/shareArticle?mini=true&url=http://gazi.edu.tr/&title=Gazi%20Universitesi&summary=&source=', 'context_set': ''}, {'tag': '\\n\\n', 'patterns': ['\\n\\n'], 'responses': 'http://guzem.gazi.edu.tr/posts/view/title/2020-2021-guz-donemi-yabanci-dil-kurslarimiz-258730?siteUri=guzem', 'context_set': ''}, {'tag': 'guzem öys', 'patterns': ['guze', 'öys', 'guzem öys'], 'responses': 'https://lms.gazi.edu.tr/', 'context_set': ''}, {'tag': 'abs', 'patterns': ['abs', 'abs'], 'responses': 'http://abs.gazi.edu.tr', 'context_set': ''}, {'tag': 'akademi̇k takvi̇m', 'patterns': ['akademi̇k', 'takvi̇m', 'akademi̇k takvi̇m'], 'responses': 'http://gazi-universitesi.gazi.edu.tr/posts?type=akademiktakvim', 'context_set': ''}, {'tag': 'ebys', 'patterns': ['ebys', 'ebys'], 'responses': 'http://ebys.gazi.edu.tr/envision', 'context_set': ''}, {'tag': 'kütüphane', 'patterns': ['kütüpha', 'kütüpha'], 'responses': 'http://lib.gazi.edu.tr', 'context_set': ''}, {'tag': 'kullanici kilavuzu', 'patterns': ['kullaniç', 'kilavuz', 'kullanici kilavuz'], 'responses': 'http://egitim.bidb.gazi.edu.tr/', 'context_set': ''}, {'tag': 'öğrenci̇ i̇şleri̇', 'patterns': ['öğrenci̇', 'i̇şleri̇', 'öğrenci̇ i̇şleri̇'], 'responses': 'http://ogris.gazi.edu.tr/', 'context_set': ''}, {'tag': 'senato kararlari', 'patterns': ['senato', 'kararlari', 'senato karar'], 'responses': 'http://senato.gazi.edu.tr/', 'context_set': ''}, {'tag': 'e-posta', 'patterns': ['e-pos', 'e-pos'], 'responses': 'https://zbr.gazi.edu.tr/zimbra/', 'context_set': ''}, {'tag': 'spor & sağlık merkezleri ', 'patterns': ['spor', '&', 'sağlık', 'merkez', 'spor & sağlık merkezleri '], 'responses': 'http://mediko.gazi.edu.tr/?language=tr_TR', 'context_set': ''}, {'tag': 'öğrenci kulüpleri', 'patterns': ['öğrenci', 'kulüp', 'öğrenci kulüp'], 'responses': 'http://topluluklar.gazi.edu.tr/?language=tr_TR', 'context_set': ''}, {'tag': 'kütüphane ', 'patterns': ['kütüpha', 'kütüphane '], 'responses': 'http://lib.gazi.edu.tr/', 'context_set': ''}, {'tag': 'sosyal yaşam & personel ', 'patterns': ['sosyal', 'yaşa', '&', 'personel', 'sosyal yaşam & personel '], 'responses': 'http://gazi.edu.tr/posts?type=personel', 'context_set': ''}, {'tag': 'bilimsel arastırma projeler birimi (bap)', 'patterns': ['bilimsel', 'arastırma', 'proje', 'bir', '(', 'bap', ')', 'bilimsel arastırma projeler birimi (bap)'], 'responses': 'http://bap.gazi.edu.tr/?language=tr_TR', 'context_set': ''}, {'tag': 'araştırma ve uygulama merkezleri', 'patterns': ['araştırma', 've', 'uygula', 'merkez', 'araştırma ve uygulama merkez'], 'responses': 'http://gazi-universitesi.gazi.edu.tr/posts/view/title/arastirma-ve-uygulama-merkezleri-252158', 'context_set': ''}, {'tag': 'akademik ölçütler ve ödül bürosu', 'patterns': ['akademik', 'ölçüt', 've', 'ödül', 'büros', 'akademik ölçütler ve ödül büros'], 'responses': 'http://aolcutodul.gazi.edu.tr/?language=tr_TR', 'context_set': ''}, {'tag': 'proje koordinasyon u.a. merkezi', 'patterns': ['proje', 'koordinasyo', 'u.', '.', 'merkez', 'proje koordinasyon u.a. merkez'], 'responses': 'http://proje.gazi.edu.tr/?language=tr_TR', 'context_set': ''}, {'tag': 'başarılı proje sonuçları platformu', 'patterns': ['başarıl', 'proje', 'sonuç', 'platformu', 'başarılı proje sonuçları platformu'], 'responses': 'http://proje.gazi.edu.tr/posts/view/title/basarili-proje-sonuclari-platformu-224816?siteUri=proje&language=tr_TR', 'context_set': ''}, {'tag': 'web of science yayın indeksi', 'patterns': ['web', 'of', 'scie', 'yay', 'indeksi', 'web of science yayın indeksi'], 'responses': 'https://webofknowledge.com/', 'context_set': ''}, {'tag': 'akademik & bilimsel dergiler', 'patterns': ['akademik', '&', 'bilimsel', 'dergi', 'akademik & bilimsel dergi'], 'responses': 'http://gazi-universitesi.gazi.edu.tr/posts/view/title/dergiler-215', 'context_set': ''}, {'tag': 'açık arşiv (tezler & makaleler)', 'patterns': ['açık', 'arşiv', '(', 'tez', '&', 'makale', ')', 'açık arşiv (tezler & makaleler)'], 'responses': 'http://dspace.gazi.edu.tr/?language=tr_TR', 'context_set': ''}, {'tag': 'projeler', 'patterns': ['proje', 'proje'], 'responses': 'http://gazi-universitesi.gazi.edu.tr/posts/view/title/projeler-190981', 'context_set': ''}, {'tag': 'kurum dışı etkinlikler', 'patterns': ['kur', 'dış', 'etkinlik', 'kurum dışı etkinlik'], 'responses': 'http://gazi.edu.tr/posts/view/title/kurum-disi-etkinlikler-243044', 'context_set': ''}, {'tag': 'planlama değerlendirme', 'patterns': ['planla', 'değerlendirme', 'planlama değerlendirme'], 'responses': 'http://gazi-universitesi.gazi.edu.tr/posts/view/title/raporlar-151', 'context_set': ''}, {'tag': 'teknoloji transfer ofisi', 'patterns': ['teknoloj', 'transfer', 'ofis', 'teknoloji transfer ofis'], 'responses': 'http://www.gazitto.com.tr/?language=tr_TR', 'context_set': ''}, {'tag': 'kalite komisyonu', 'patterns': ['kali', 'komisyo', 'kalite komisyo'], 'responses': 'http://kalite.gazi.edu.tr/?language=tr_TR', 'context_set': ''}, {'tag': 'incites', 'patterns': ['incites', 'incites'], 'responses': 'https://incites.clarivate.com/', 'context_set': ''}, {'tag': 'bilgi', 'patterns': ['bilgi', 'bilgi'], 'responses': 'http://gazi.edu.tr/Incites_dokuman.pdf', 'context_set': ''}, {'tag': 'gazi teknopark', 'patterns': ['gazi', 'teknopark', 'gazi teknopark'], 'responses': 'http://www.gaziteknopark.com.tr/?language=tr_TR', 'context_set': ''}, {'tag': 'etik kurullar', 'patterns': ['etik', 'kurul', 'etik kurul'], 'responses': 'http://gazi-universitesi.gazi.edu.tr/posts/view/title/etik-kurullar-31301', 'context_set': ''}, {'tag': 'anketler', 'patterns': ['anket', 'anket'], 'responses': 'http://gazi-universitesi.gazi.edu.tr/posts/view/title/anketler-49411', 'context_set': ''}, {'tag': '\\n\\n\\n', 'patterns': ['\\n\\n\\n'], 'responses': 'https://www.facebook.com/Gazi-%C3%9Cniversitesi-Gazi-University-1691642347768727/?ref=settings', 'context_set': ''}, {'tag': '\\n\\n\\n', 'patterns': ['\\n\\n\\n'], 'responses': 'https://twitter.com/Gazi_Universite', 'context_set': ''}, {'tag': '\\n\\n\\n', 'patterns': ['\\n\\n\\n'], 'responses': 'http://www.youtube.com/channel/UCeqmviAP_SXENDj3fzW1gJA', 'context_set': ''}, {'tag': '\\n\\n\\n', 'patterns': ['\\n\\n\\n'], 'responses': 'https://www.linkedin.com/edu/school?id=17357', 'context_set': ''}, {'tag': '\\n\\n\\n', 'patterns': ['\\n\\n\\n'], 'responses': 'https://www.instagram.com/gazi_universitesi', 'context_set': ''}, {'tag': '\\n\\n\\n', 'patterns': ['\\n\\n\\n'], 'responses': 'https://zbr.gazi.edu.tr/zimbra/', 'context_set': ''}, {'tag': '\\n\\n\\n', 'patterns': ['\\n\\n\\n'], 'responses': 'http://gazi.edu.tr/index/rss', 'context_set': ''}]}\n"
     ]
    }
   ],
   "source": [
    "html_text = requests.get('http://gazi.edu.tr/').text\n",
    "\n",
    "soup = BeautifulSoup(html_text, 'lxml')\n",
    "\n",
    "ust_sekme = soup.find_all('li', class_ = 'menu-li')\n",
    "\n",
    "intents = []\n",
    "\n",
    "turkStem = TurkishStemmer()\n",
    "\n",
    "for i in soup.find_all('a' ):\n",
    "    if 'http' in i['href']:\n",
    "        \n",
    "        tag = i.text.lower()\n",
    "        \n",
    "        \n",
    "        tokenizing_pattern = nltk.word_tokenize(i.text) \n",
    "        tokenizing_pattern.append(i.text)\n",
    "        \n",
    "        \n",
    "        pattern = [turkStem.stemWord(word.lower()) for word in tokenizing_pattern]\n",
    "#         print(tokenizing_pattern)\n",
    "        dict_ = {\"tag\" : tag, \n",
    "                 \"patterns\" : pattern, \n",
    "                 \"responses\": i['href'], \n",
    "                 \"context_set\": \"\"\n",
    "                }\n",
    "        intents.append(dict_)\n",
    "\n",
    "# for i in intents:\n",
    "#     print(i)\n",
    "#     print('*******************************')\n",
    "\n",
    "data = {\"intents\":intents}\n",
    "\n",
    "print(data)\n",
    "\n",
    "# with open('my_intents6.txt', 'w', encoding='ascii') as f:\n",
    "#     json.dump(intents.decode('iso-8859-9').encode('utf8'),f)\n",
    "    \n",
    "# # print(intents)\n",
    "# #         print(i['href'])\n",
    "# #         print('TEXT : ' , i.text )\n",
    "# #         print('****************')\n",
    "# with open('my_intents6.txt', 'r', encoding='ascii') as f:\n",
    "#     for i in f:\n",
    "#         print(i)"
   ]
  },
  {
   "cell_type": "code",
   "execution_count": 3,
   "metadata": {},
   "outputs": [
    {
     "name": "stderr",
     "output_type": "stream",
     "text": [
      "[nltk_data] Downloading package stopwords to\n",
      "[nltk_data]     /home/yazilimci/nltk_data...\n",
      "[nltk_data]   Package stopwords is already up-to-date!\n"
     ]
    },
    {
     "data": {
      "text/plain": [
       "True"
      ]
     },
     "execution_count": 3,
     "metadata": {},
     "output_type": "execute_result"
    }
   ],
   "source": [
    "from nltk.tokenize import sent_tokenize, word_tokenize\n",
    "from nltk.corpus import stopwords \n",
    "nltk.download('stopwords')\n",
    "\n",
    "# data = \"Ali ata bak heyali bak ona buna şuna. abi naber, hello mom! öküğz\"\n",
    "# words_wordt = word_tokenize(data)\n"
   ]
  },
  {
   "cell_type": "code",
   "execution_count": 23,
   "metadata": {},
   "outputs": [
    {
     "name": "stdout",
     "output_type": "stream",
     "text": [
      "b'\"\\\\u015f\\\\u015f\\\\u015f\\\\u00e7\\\\u00fc\\\\u00fc\"'\n"
     ]
    }
   ],
   "source": [
    "metin = u\"şşşçüü\"\n",
    "\n",
    "metin\n",
    "\n",
    "with open('my_intents1.json', 'w',encoding='latin-1') as f:\n",
    "    json.dump(metin,f)\n",
    "    \n",
    "with open('my_intents5.json', 'r') as f:\n",
    "    for i in f:\n",
    "        print(i.encode('utf-8'))"
   ]
  },
  {
   "cell_type": "code",
   "execution_count": null,
   "metadata": {},
   "outputs": [],
   "source": []
  },
  {
   "cell_type": "code",
   "execution_count": null,
   "metadata": {},
   "outputs": [],
   "source": []
  },
  {
   "cell_type": "code",
   "execution_count": null,
   "metadata": {},
   "outputs": [],
   "source": []
  },
  {
   "cell_type": "code",
   "execution_count": null,
   "metadata": {},
   "outputs": [],
   "source": []
  },
  {
   "cell_type": "code",
   "execution_count": null,
   "metadata": {},
   "outputs": [],
   "source": []
  },
  {
   "cell_type": "code",
   "execution_count": null,
   "metadata": {},
   "outputs": [],
   "source": []
  },
  {
   "cell_type": "code",
   "execution_count": null,
   "metadata": {},
   "outputs": [],
   "source": []
  },
  {
   "cell_type": "code",
   "execution_count": null,
   "metadata": {},
   "outputs": [],
   "source": []
  },
  {
   "cell_type": "code",
   "execution_count": null,
   "metadata": {},
   "outputs": [],
   "source": []
  },
  {
   "cell_type": "code",
   "execution_count": 4,
   "metadata": {},
   "outputs": [
    {
     "name": "stdout",
     "output_type": "stream",
     "text": [
      "Python for beginners costs 20$\n",
      "Python Web Development costs 50$\n",
      "Python Machine Learning costs 100$\n"
     ]
    }
   ],
   "source": [
    "with open('home.html','r') as html_file:\n",
    "    content = html_file.read()\n",
    "    \n",
    "    soup = BeautifulSoup(content, 'lxml')\n",
    "    \n",
    "    course_cards = soup.find_all('div', class_='card')\n",
    "    \n",
    "    for course in course_cards:\n",
    "        course_name = course.h5.text\n",
    "        course_price = course.a.text.split()[-1]\n",
    "    \n",
    "        \n",
    "        print(f'{course_name} costs {course_price}')"
   ]
  },
  {
   "cell_type": "code",
   "execution_count": null,
   "metadata": {},
   "outputs": [],
   "source": []
  },
  {
   "cell_type": "code",
   "execution_count": null,
   "metadata": {},
   "outputs": [],
   "source": []
  },
  {
   "cell_type": "code",
   "execution_count": null,
   "metadata": {},
   "outputs": [],
   "source": []
  },
  {
   "cell_type": "code",
   "execution_count": null,
   "metadata": {},
   "outputs": [],
   "source": []
  },
  {
   "cell_type": "code",
   "execution_count": null,
   "metadata": {},
   "outputs": [],
   "source": []
  },
  {
   "cell_type": "code",
   "execution_count": null,
   "metadata": {},
   "outputs": [],
   "source": []
  },
  {
   "cell_type": "code",
   "execution_count": null,
   "metadata": {},
   "outputs": [],
   "source": []
  },
  {
   "cell_type": "code",
   "execution_count": null,
   "metadata": {},
   "outputs": [],
   "source": []
  },
  {
   "cell_type": "code",
   "execution_count": null,
   "metadata": {},
   "outputs": [],
   "source": []
  },
  {
   "cell_type": "code",
   "execution_count": null,
   "metadata": {},
   "outputs": [],
   "source": []
  },
  {
   "cell_type": "code",
   "execution_count": null,
   "metadata": {},
   "outputs": [],
   "source": []
  }
 ],
 "metadata": {
  "kernelspec": {
   "display_name": "Python 3",
   "language": "python",
   "name": "python3"
  },
  "language_info": {
   "codemirror_mode": {
    "name": "ipython",
    "version": 3
   },
   "file_extension": ".py",
   "mimetype": "text/x-python",
   "name": "python",
   "nbconvert_exporter": "python",
   "pygments_lexer": "ipython3",
   "version": "3.8.5"
  }
 },
 "nbformat": 4,
 "nbformat_minor": 4
}
